{
  "nbformat": 4,
  "nbformat_minor": 0,
  "metadata": {
    "kernelspec": {
      "name": "python3",
      "display_name": "Python 3"
    },
    "language_info": {
      "codemirror_mode": {
        "name": "ipython",
        "version": 3
      },
      "file_extension": ".py",
      "mimetype": "text/x-python",
      "name": "python",
      "nbconvert_exporter": "python",
      "pygments_lexer": "ipython3",
      "version": "3.6.8"
    },
    "colab": {
      "name": "4.4-overfitting-and-underfitting.ipynb",
      "provenance": [],
      "include_colab_link": true
    },
    "accelerator": "GPU"
  },
  "cells": [
    {
      "cell_type": "markdown",
      "metadata": {
        "id": "view-in-github",
        "colab_type": "text"
      },
      "source": [
        "<a href=\"https://colab.research.google.com/github/apester/Deep-Learning-Coursera/blob/master/4_4_overfitting_and_underfitting_new.ipynb\" target=\"_parent\"><img src=\"https://colab.research.google.com/assets/colab-badge.svg\" alt=\"Open In Colab\"/></a>"
      ]
    },
    {
      "cell_type": "code",
      "metadata": {
        "id": "MXYKq6Ciq4vG",
        "colab_type": "code",
        "colab": {
          "base_uri": "https://localhost:8080/",
          "height": 52
        },
        "outputId": "21aec861-2107-457c-c412-a720aca31d54"
      },
      "source": [
        "import keras\n",
        "keras.__version__"
      ],
      "execution_count": 1,
      "outputs": [
        {
          "output_type": "stream",
          "text": [
            "Using TensorFlow backend.\n"
          ],
          "name": "stderr"
        },
        {
          "output_type": "execute_result",
          "data": {
            "text/plain": [
              "'2.2.5'"
            ]
          },
          "metadata": {
            "tags": []
          },
          "execution_count": 1
        }
      ]
    },
    {
      "cell_type": "markdown",
      "metadata": {
        "id": "odZKdTuTq4vM",
        "colab_type": "text"
      },
      "source": [
        "# Overfitting and underfitting\n",
        "\n",
        "This notebook contains the code samples found in Chapter 3, Section 6 of [Deep Learning with Python](https://www.manning.com/books/deep-learning-with-python?a_aid=keras&a_bid=76564dff). Note that the original text features far more content, in particular further explanations and figures: in this notebook, you will only find source code and related comments.\n",
        "\n",
        "----\n",
        "\n",
        "\n",
        "In all the examples we saw in the previous chapter -- movie review sentiment prediction, topic classification, and house price regression -- \n",
        "we could notice that the performance of our model on the held-out validation data would always peak after a few epochs and would then start \n",
        "degrading, i.e. our model would quickly start to _overfit_ to the training data. Overfitting happens in every single machine learning \n",
        "problem. Learning how to deal with overfitting is essential to mastering machine learning.\n",
        "\n",
        "The fundamental issue in machine learning is the tension between optimization and generalization. \"Optimization\" refers to the process of \n",
        "adjusting a model to get the best performance possible on the training data (the \"learning\" in \"machine learning\"), while \"generalization\" \n",
        "refers to how well the trained model would perform on data it has never seen before. The goal of the game is to get good generalization, of \n",
        "course, but you do not control generalization; you can only adjust the model based on its training data.\n",
        "\n",
        "At the beginning of training, optimization and generalization are correlated: the lower your loss on training data, the lower your loss on \n",
        "test data. While this is happening, your model is said to be _under-fit_: there is still progress to be made; the network hasn't yet \n",
        "modeled all relevant patterns in the training data. But after a certain number of iterations on the training data, generalization stops \n",
        "improving, validation metrics stall then start degrading: the model is then starting to over-fit, i.e. is it starting to learn patterns \n",
        "that are specific to the training data but that are misleading or irrelevant when it comes to new data.\n",
        "\n",
        "To prevent a model from learning misleading or irrelevant patterns found in the training data, _the best solution is of course to get \n",
        "more training data_. A model trained on more data will naturally generalize better. When that is no longer possible, the next best solution \n",
        "is to modulate the quantity of information that your model is allowed to store, or to add constraints on what information it is allowed to \n",
        "store. If a network can only afford to memorize a small number of patterns, the optimization process will force it to focus on the most \n",
        "prominent patterns, which have a better chance of generalizing well.\n",
        "\n",
        "The processing of fighting overfitting in this way is called _regularization_. Let's review some of the most common regularization \n",
        "techniques, and let's apply them in practice to improve our movie classification model from  the previous chapter."
      ]
    },
    {
      "cell_type": "markdown",
      "metadata": {
        "id": "5fNpKOkPq4vN",
        "colab_type": "text"
      },
      "source": [
        "Note: in this notebook we will be using the IMDB test set as our validation set. It doesn't matter in this context.\n",
        "\n",
        "Let's prepare the data using the code from Chapter 3, Section 5:"
      ]
    },
    {
      "cell_type": "code",
      "metadata": {
        "id": "EOvGkGlZq4vP",
        "colab_type": "code",
        "colab": {}
      },
      "source": [
        "from keras.datasets import imdb\n",
        "import numpy as np\n",
        "\n",
        "# save np.load\n",
        "np_load_old = np.load\n",
        "np.load.__defaults__=(None, True, True, 'ASCII')\n",
        "\n",
        "# modify the default parameters of np.load\n",
        "# np.load = lambda *a,**k: np_load_old(*a, allow_pickle=True, **k)\n",
        "\n",
        "# call load_data with allow_pickle implicitly set to true\n",
        "(train_data, train_labels), (test_data, test_labels) = imdb.load_data(num_words=10000)\n",
        "\n",
        "# restore np.load for future normal usage\n",
        "np.load = np_load_old\n",
        "np.load.__defaults__=(None, False, True, 'ASCII')\n",
        "\n",
        "# (train_data, train_labels), (test_data, test_labels) = imdb.load_data(num_words=10000)\n",
        "\n",
        "def vectorize_sequences(sequences, dimension=10000):\n",
        "    # Create an all-zero matrix of shape (len(sequences), dimension)\n",
        "    results = np.zeros((len(sequences), dimension))\n",
        "    for i, sequence in enumerate(sequences):\n",
        "        results[i, sequence] = 1.  # set specific indices of results[i] to 1s\n",
        "    return results\n",
        "\n",
        "# Our vectorized training data\n",
        "x_train = vectorize_sequences(train_data)\n",
        "# Our vectorized test data\n",
        "x_test = vectorize_sequences(test_data)\n",
        "# Our vectorized labels\n",
        "y_train = np.asarray(train_labels).astype('float32')\n",
        "y_test = np.asarray(test_labels).astype('float32')"
      ],
      "execution_count": 0,
      "outputs": []
    },
    {
      "cell_type": "markdown",
      "metadata": {
        "id": "K6EfQfdmq4vT",
        "colab_type": "text"
      },
      "source": [
        "# Fighting overfitting\n",
        "\n",
        "## Reducing the network's size\n",
        "\n",
        "\n",
        "The simplest way to prevent overfitting is to reduce the size of the model, i.e. the number of learnable parameters in the model (which is \n",
        "determined by the number of layers and the number of units per layer). In deep learning, the number of learnable parameters in a model is \n",
        "often referred to as the model's \"capacity\". Intuitively, a model with more parameters will have more \"memorization capacity\" and therefore \n",
        "will be able to easily learn a perfect dictionary-like mapping between training samples and their targets, a mapping without any \n",
        "generalization power. For instance, a model with 500,000 binary parameters could easily be made to learn the class of every digits in the \n",
        "MNIST training set: we would only need 10 binary parameters for each of the 50,000 digits. Such a model would be useless for classifying \n",
        "new digit samples. Always keep this in mind: deep learning models tend to be good at fitting to the training data, but the real challenge \n",
        "is generalization, not fitting.\n",
        "\n",
        "On the other hand, if the network has limited memorization resources, it will not be able to learn this mapping as easily, and thus, in \n",
        "order to minimize its loss, it will have to resort to learning compressed representations that have predictive power regarding the targets \n",
        "-- precisely the type of representations that we are interested in. At the same time, keep in mind that you should be using models that have \n",
        "enough parameters that they won't be underfitting: your model shouldn't be starved for memorization resources. There is a compromise to be \n",
        "found between \"too much capacity\" and \"not enough capacity\".\n",
        "\n",
        "Unfortunately, there is no magical formula to determine what the right number of layers is, or what the right size for each layer is. You \n",
        "will have to evaluate an array of different architectures (on your validation set, not on your test set, of course) in order to find the \n",
        "right model size for your data. The general workflow to find an appropriate model size is to start with relatively few layers and \n",
        "parameters, and start increasing the size of the layers or adding new layers until you see diminishing returns with regard to the \n",
        "validation loss.\n",
        "\n",
        "Let's try this on our movie review classification network. Our original network was as such:"
      ]
    },
    {
      "cell_type": "code",
      "metadata": {
        "id": "uGEhWFbIq4vV",
        "colab_type": "code",
        "colab": {
          "base_uri": "https://localhost:8080/",
          "height": 263
        },
        "outputId": "e5cddaba-633d-4e65-a617-3281ac6671aa"
      },
      "source": [
        "from keras import models\n",
        "from keras import layers\n",
        "\n",
        "original_model = models.Sequential()\n",
        "original_model.add(layers.Dense(16, activation='relu', input_shape=(10000,)))\n",
        "original_model.add(layers.Dense(16, activation='relu'))\n",
        "original_model.add(layers.Dense(1, activation='sigmoid'))\n",
        "\n",
        "original_model.compile(optimizer='rmsprop',\n",
        "                       loss='binary_crossentropy',\n",
        "                       metrics=['acc'])"
      ],
      "execution_count": 3,
      "outputs": [
        {
          "output_type": "stream",
          "text": [
            "WARNING:tensorflow:From /usr/local/lib/python3.6/dist-packages/keras/backend/tensorflow_backend.py:66: The name tf.get_default_graph is deprecated. Please use tf.compat.v1.get_default_graph instead.\n",
            "\n",
            "WARNING:tensorflow:From /usr/local/lib/python3.6/dist-packages/keras/backend/tensorflow_backend.py:541: The name tf.placeholder is deprecated. Please use tf.compat.v1.placeholder instead.\n",
            "\n",
            "WARNING:tensorflow:From /usr/local/lib/python3.6/dist-packages/keras/backend/tensorflow_backend.py:4432: The name tf.random_uniform is deprecated. Please use tf.random.uniform instead.\n",
            "\n",
            "WARNING:tensorflow:From /usr/local/lib/python3.6/dist-packages/keras/optimizers.py:793: The name tf.train.Optimizer is deprecated. Please use tf.compat.v1.train.Optimizer instead.\n",
            "\n",
            "WARNING:tensorflow:From /usr/local/lib/python3.6/dist-packages/keras/backend/tensorflow_backend.py:3657: The name tf.log is deprecated. Please use tf.math.log instead.\n",
            "\n",
            "WARNING:tensorflow:From /usr/local/lib/python3.6/dist-packages/tensorflow_core/python/ops/nn_impl.py:183: where (from tensorflow.python.ops.array_ops) is deprecated and will be removed in a future version.\n",
            "Instructions for updating:\n",
            "Use tf.where in 2.0, which has the same broadcast rule as np.where\n"
          ],
          "name": "stdout"
        }
      ]
    },
    {
      "cell_type": "markdown",
      "metadata": {
        "id": "zgfs0Dj3q4va",
        "colab_type": "text"
      },
      "source": [
        "Now let's try to replace it with this smaller network:"
      ]
    },
    {
      "cell_type": "code",
      "metadata": {
        "id": "_e5axFXhq4vb",
        "colab_type": "code",
        "colab": {}
      },
      "source": [
        "smaller_model = models.Sequential()\n",
        "smaller_model.add(layers.Dense(4, activation='relu', input_shape=(10000,)))\n",
        "smaller_model.add(layers.Dense(4, activation='relu'))\n",
        "smaller_model.add(layers.Dense(1, activation='sigmoid'))\n",
        "\n",
        "smaller_model.compile(optimizer='rmsprop',\n",
        "                      loss='binary_crossentropy',\n",
        "                      metrics=['acc'])"
      ],
      "execution_count": 0,
      "outputs": []
    },
    {
      "cell_type": "markdown",
      "metadata": {
        "id": "IKzBvO4qq4vf",
        "colab_type": "text"
      },
      "source": [
        "\n",
        "Here's a comparison of the validation losses of the original network and the smaller network. The dots are the validation loss values of \n",
        "the smaller network, and the crosses are the initial network (remember: a lower validation loss signals a better model)."
      ]
    },
    {
      "cell_type": "code",
      "metadata": {
        "scrolled": true,
        "id": "uDUdAyCpq4vh",
        "colab_type": "code",
        "colab": {
          "base_uri": "https://localhost:8080/",
          "height": 1000
        },
        "outputId": "3938d6df-d438-46aa-8097-b8b08badebf0"
      },
      "source": [
        "original_hist = original_model.fit(x_train, y_train,\n",
        "                                   epochs=20,\n",
        "                                   batch_size=512,\n",
        "                                   validation_data=(x_test, y_test))"
      ],
      "execution_count": 5,
      "outputs": [
        {
          "output_type": "stream",
          "text": [
            "WARNING:tensorflow:From /usr/local/lib/python3.6/dist-packages/keras/backend/tensorflow_backend.py:1033: The name tf.assign_add is deprecated. Please use tf.compat.v1.assign_add instead.\n",
            "\n",
            "WARNING:tensorflow:From /usr/local/lib/python3.6/dist-packages/keras/backend/tensorflow_backend.py:1020: The name tf.assign is deprecated. Please use tf.compat.v1.assign instead.\n",
            "\n",
            "WARNING:tensorflow:From /usr/local/lib/python3.6/dist-packages/keras/backend/tensorflow_backend.py:3005: The name tf.Session is deprecated. Please use tf.compat.v1.Session instead.\n",
            "\n",
            "Train on 25000 samples, validate on 25000 samples\n",
            "Epoch 1/20\n",
            "WARNING:tensorflow:From /usr/local/lib/python3.6/dist-packages/keras/backend/tensorflow_backend.py:190: The name tf.get_default_session is deprecated. Please use tf.compat.v1.get_default_session instead.\n",
            "\n",
            "WARNING:tensorflow:From /usr/local/lib/python3.6/dist-packages/keras/backend/tensorflow_backend.py:197: The name tf.ConfigProto is deprecated. Please use tf.compat.v1.ConfigProto instead.\n",
            "\n",
            "WARNING:tensorflow:From /usr/local/lib/python3.6/dist-packages/keras/backend/tensorflow_backend.py:207: The name tf.global_variables is deprecated. Please use tf.compat.v1.global_variables instead.\n",
            "\n",
            "WARNING:tensorflow:From /usr/local/lib/python3.6/dist-packages/keras/backend/tensorflow_backend.py:216: The name tf.is_variable_initialized is deprecated. Please use tf.compat.v1.is_variable_initialized instead.\n",
            "\n",
            "WARNING:tensorflow:From /usr/local/lib/python3.6/dist-packages/keras/backend/tensorflow_backend.py:223: The name tf.variables_initializer is deprecated. Please use tf.compat.v1.variables_initializer instead.\n",
            "\n",
            "25000/25000 [==============================] - 7s 284us/step - loss: 0.4535 - acc: 0.8213 - val_loss: 0.3393 - val_acc: 0.8774\n",
            "Epoch 2/20\n",
            "25000/25000 [==============================] - 2s 100us/step - loss: 0.2564 - acc: 0.9088 - val_loss: 0.2837 - val_acc: 0.8892\n",
            "Epoch 3/20\n",
            "25000/25000 [==============================] - 3s 101us/step - loss: 0.1996 - acc: 0.9265 - val_loss: 0.2845 - val_acc: 0.8859\n",
            "Epoch 4/20\n",
            "25000/25000 [==============================] - 2s 99us/step - loss: 0.1665 - acc: 0.9401 - val_loss: 0.2925 - val_acc: 0.8829\n",
            "Epoch 5/20\n",
            "25000/25000 [==============================] - 2s 100us/step - loss: 0.1455 - acc: 0.9484 - val_loss: 0.3328 - val_acc: 0.8728\n",
            "Epoch 6/20\n",
            "25000/25000 [==============================] - 3s 101us/step - loss: 0.1295 - acc: 0.9542 - val_loss: 0.3498 - val_acc: 0.8705\n",
            "Epoch 7/20\n",
            "25000/25000 [==============================] - 3s 102us/step - loss: 0.1161 - acc: 0.9590 - val_loss: 0.3539 - val_acc: 0.8737\n",
            "Epoch 8/20\n",
            "25000/25000 [==============================] - 3s 101us/step - loss: 0.1031 - acc: 0.9649 - val_loss: 0.3913 - val_acc: 0.8661\n",
            "Epoch 9/20\n",
            "25000/25000 [==============================] - 3s 102us/step - loss: 0.0944 - acc: 0.9680 - val_loss: 0.4304 - val_acc: 0.8614\n",
            "Epoch 10/20\n",
            "25000/25000 [==============================] - 3s 102us/step - loss: 0.0828 - acc: 0.9723 - val_loss: 0.4347 - val_acc: 0.8654\n",
            "Epoch 11/20\n",
            "25000/25000 [==============================] - 3s 101us/step - loss: 0.0749 - acc: 0.9756 - val_loss: 0.4722 - val_acc: 0.8630\n",
            "Epoch 12/20\n",
            "25000/25000 [==============================] - 3s 102us/step - loss: 0.0675 - acc: 0.9773 - val_loss: 0.5097 - val_acc: 0.8584\n",
            "Epoch 13/20\n",
            "25000/25000 [==============================] - 3s 103us/step - loss: 0.0606 - acc: 0.9809 - val_loss: 0.5504 - val_acc: 0.8558\n",
            "Epoch 14/20\n",
            "25000/25000 [==============================] - 3s 101us/step - loss: 0.0553 - acc: 0.9825 - val_loss: 0.5687 - val_acc: 0.8550\n",
            "Epoch 15/20\n",
            "25000/25000 [==============================] - 3s 102us/step - loss: 0.0485 - acc: 0.9851 - val_loss: 0.7081 - val_acc: 0.8397\n",
            "Epoch 16/20\n",
            "25000/25000 [==============================] - 3s 101us/step - loss: 0.0429 - acc: 0.9871 - val_loss: 0.6857 - val_acc: 0.8452\n",
            "Epoch 17/20\n",
            "25000/25000 [==============================] - 3s 100us/step - loss: 0.0398 - acc: 0.9877 - val_loss: 0.6606 - val_acc: 0.8522\n",
            "Epoch 18/20\n",
            "25000/25000 [==============================] - 3s 101us/step - loss: 0.0343 - acc: 0.9899 - val_loss: 0.6951 - val_acc: 0.8508\n",
            "Epoch 19/20\n",
            "25000/25000 [==============================] - 3s 102us/step - loss: 0.0294 - acc: 0.9914 - val_loss: 0.7373 - val_acc: 0.8491\n",
            "Epoch 20/20\n",
            "25000/25000 [==============================] - 3s 101us/step - loss: 0.0287 - acc: 0.9908 - val_loss: 0.7632 - val_acc: 0.8484\n"
          ],
          "name": "stdout"
        }
      ]
    },
    {
      "cell_type": "code",
      "metadata": {
        "id": "e7Sy3mQKq4vl",
        "colab_type": "code",
        "colab": {
          "base_uri": "https://localhost:8080/",
          "height": 728
        },
        "outputId": "b4b9a84c-8365-48ee-d95c-310cd93a345c"
      },
      "source": [
        "smaller_model_hist = smaller_model.fit(x_train, y_train,\n",
        "                                       epochs=20,\n",
        "                                       batch_size=512,\n",
        "                                       validation_data=(x_test, y_test))"
      ],
      "execution_count": 6,
      "outputs": [
        {
          "output_type": "stream",
          "text": [
            "Train on 25000 samples, validate on 25000 samples\n",
            "Epoch 1/20\n",
            "25000/25000 [==============================] - 3s 108us/step - loss: 0.6311 - acc: 0.6656 - val_loss: 0.5911 - val_acc: 0.7723\n",
            "Epoch 2/20\n",
            "25000/25000 [==============================] - 3s 102us/step - loss: 0.5438 - acc: 0.7979 - val_loss: 0.5246 - val_acc: 0.8196\n",
            "Epoch 3/20\n",
            "25000/25000 [==============================] - 3s 100us/step - loss: 0.4728 - acc: 0.8634 - val_loss: 0.4681 - val_acc: 0.8544\n",
            "Epoch 4/20\n",
            "25000/25000 [==============================] - 3s 100us/step - loss: 0.4079 - acc: 0.8995 - val_loss: 0.4143 - val_acc: 0.8825\n",
            "Epoch 5/20\n",
            "25000/25000 [==============================] - 3s 101us/step - loss: 0.3382 - acc: 0.9213 - val_loss: 0.3555 - val_acc: 0.8862\n",
            "Epoch 6/20\n",
            "25000/25000 [==============================] - 3s 102us/step - loss: 0.2670 - acc: 0.9305 - val_loss: 0.3094 - val_acc: 0.8887\n",
            "Epoch 7/20\n",
            "25000/25000 [==============================] - 3s 101us/step - loss: 0.2130 - acc: 0.9382 - val_loss: 0.2883 - val_acc: 0.8881\n",
            "Epoch 8/20\n",
            "25000/25000 [==============================] - 3s 100us/step - loss: 0.1810 - acc: 0.9447 - val_loss: 0.2834 - val_acc: 0.8883\n",
            "Epoch 9/20\n",
            "25000/25000 [==============================] - 2s 100us/step - loss: 0.1605 - acc: 0.9491 - val_loss: 0.2884 - val_acc: 0.8877\n",
            "Epoch 10/20\n",
            "25000/25000 [==============================] - 3s 101us/step - loss: 0.1453 - acc: 0.9546 - val_loss: 0.2968 - val_acc: 0.8841\n",
            "Epoch 11/20\n",
            "25000/25000 [==============================] - 3s 102us/step - loss: 0.1338 - acc: 0.9568 - val_loss: 0.3063 - val_acc: 0.8834\n",
            "Epoch 12/20\n",
            "25000/25000 [==============================] - 2s 100us/step - loss: 0.1237 - acc: 0.9610 - val_loss: 0.3183 - val_acc: 0.8805\n",
            "Epoch 13/20\n",
            "25000/25000 [==============================] - 3s 102us/step - loss: 0.1142 - acc: 0.9649 - val_loss: 0.3326 - val_acc: 0.8776\n",
            "Epoch 14/20\n",
            "25000/25000 [==============================] - 3s 102us/step - loss: 0.1065 - acc: 0.9678 - val_loss: 0.3465 - val_acc: 0.8758\n",
            "Epoch 15/20\n",
            "25000/25000 [==============================] - 3s 103us/step - loss: 0.0987 - acc: 0.9710 - val_loss: 0.3641 - val_acc: 0.8724\n",
            "Epoch 16/20\n",
            "25000/25000 [==============================] - 3s 101us/step - loss: 0.0923 - acc: 0.9728 - val_loss: 0.3780 - val_acc: 0.8720\n",
            "Epoch 17/20\n",
            "25000/25000 [==============================] - 3s 101us/step - loss: 0.0857 - acc: 0.9751 - val_loss: 0.3920 - val_acc: 0.8703\n",
            "Epoch 18/20\n",
            "25000/25000 [==============================] - 3s 101us/step - loss: 0.0790 - acc: 0.9772 - val_loss: 0.4111 - val_acc: 0.8688\n",
            "Epoch 19/20\n",
            "25000/25000 [==============================] - 3s 103us/step - loss: 0.0734 - acc: 0.9788 - val_loss: 0.4293 - val_acc: 0.8670\n",
            "Epoch 20/20\n",
            "25000/25000 [==============================] - 3s 101us/step - loss: 0.0679 - acc: 0.9815 - val_loss: 0.4492 - val_acc: 0.8637\n"
          ],
          "name": "stdout"
        }
      ]
    },
    {
      "cell_type": "code",
      "metadata": {
        "id": "ZxGVrYcvq4vo",
        "colab_type": "code",
        "colab": {}
      },
      "source": [
        "epochs = range(1, 21)\n",
        "original_val_loss = original_hist.history['val_loss']\n",
        "smaller_model_val_loss = smaller_model_hist.history['val_loss']"
      ],
      "execution_count": 0,
      "outputs": []
    },
    {
      "cell_type": "code",
      "metadata": {
        "id": "FGH8WVGjq4vr",
        "colab_type": "code",
        "colab": {
          "base_uri": "https://localhost:8080/",
          "height": 283
        },
        "outputId": "160ced12-8495-4411-cccf-be9a3a1154ef"
      },
      "source": [
        "import matplotlib.pyplot as plt\n",
        "\n",
        "# b+ is for \"blue cross\"\n",
        "plt.plot(epochs, original_val_loss, 'b+', label='Original model')\n",
        "# \"bo\" is for \"blue dot\"\n",
        "plt.plot(epochs, smaller_model_val_loss, 'bo', label='Smaller model')\n",
        "plt.xlabel('Epochs')\n",
        "plt.ylabel('Validation loss')\n",
        "plt.legend()\n",
        "\n",
        "plt.show()"
      ],
      "execution_count": 8,
      "outputs": [
        {
          "output_type": "display_data",
          "data": {
            "image/png": "[encoded data removed]",
            "text/plain": [
              "<Figure size 432x288 with 1 Axes>"
            ]
          },
          "metadata": {
            "tags": []
          }
        }
      ]
    },
    {
      "cell_type": "markdown",
      "metadata": {
        "id": "a3IDek36q4vu",
        "colab_type": "text"
      },
      "source": [
        "\n",
        "As you can see, the smaller network starts overfitting later than the reference one (after 6 epochs rather than 4) and its performance \n",
        "degrades much more slowly once it starts overfitting.\n",
        "\n",
        "Now, for kicks, let's add to this benchmark a network that has much more capacity, far more than the problem would warrant:"
      ]
    },
    {
      "cell_type": "code",
      "metadata": {
        "id": "lQXa1XLKq4vw",
        "colab_type": "code",
        "colab": {}
      },
      "source": [
        "bigger_model = models.Sequential()\n",
        "bigger_model.add(layers.Dense(512, activation='relu', input_shape=(10000,)))\n",
        "bigger_model.add(layers.Dense(512, activation='relu'))\n",
        "bigger_model.add(layers.Dense(1, activation='sigmoid'))\n",
        "\n",
        "bigger_model.compile(optimizer='rmsprop',\n",
        "                     loss='binary_crossentropy',\n",
        "                     metrics=['acc'])"
      ],
      "execution_count": 0,
      "outputs": []
    },
    {
      "cell_type": "code",
      "metadata": {
        "id": "w3Ih10sNq4vz",
        "colab_type": "code",
        "colab": {
          "base_uri": "https://localhost:8080/",
          "height": 728
        },
        "outputId": "c97f2e8c-d6d7-41c3-fce1-c82e84a9d5a0"
      },
      "source": [
        "bigger_model_hist = bigger_model.fit(x_train, y_train,\n",
        "                                     epochs=20,\n",
        "                                     batch_size=512,\n",
        "                                     validation_data=(x_test, y_test))"
      ],
      "execution_count": 10,
      "outputs": [
        {
          "output_type": "stream",
          "text": [
            "Train on 25000 samples, validate on 25000 samples\n",
            "Epoch 1/20\n",
            "25000/25000 [==============================] - 4s 156us/step - loss: 0.4681 - acc: 0.7914 - val_loss: 0.2864 - val_acc: 0.8860\n",
            "Epoch 2/20\n",
            "25000/25000 [==============================] - 3s 137us/step - loss: 0.2157 - acc: 0.9138 - val_loss: 0.2899 - val_acc: 0.8864\n",
            "Epoch 3/20\n",
            "25000/25000 [==============================] - 3s 138us/step - loss: 0.1319 - acc: 0.9503 - val_loss: 0.3366 - val_acc: 0.8836\n",
            "Epoch 4/20\n",
            "25000/25000 [==============================] - 3s 139us/step - loss: 0.0833 - acc: 0.9746 - val_loss: 0.3282 - val_acc: 0.8821\n",
            "Epoch 5/20\n",
            "25000/25000 [==============================] - 3s 139us/step - loss: 0.0680 - acc: 0.9852 - val_loss: 0.4099 - val_acc: 0.8824\n",
            "Epoch 6/20\n",
            "25000/25000 [==============================] - 3s 137us/step - loss: 0.0031 - acc: 0.9998 - val_loss: 0.5851 - val_acc: 0.8790\n",
            "Epoch 7/20\n",
            "25000/25000 [==============================] - 3s 139us/step - loss: 0.0966 - acc: 0.9906 - val_loss: 0.6226 - val_acc: 0.8795\n",
            "Epoch 8/20\n",
            "25000/25000 [==============================] - 3s 139us/step - loss: 3.8795e-04 - acc: 0.9999 - val_loss: 0.7331 - val_acc: 0.8790\n",
            "Epoch 9/20\n",
            "25000/25000 [==============================] - 3s 138us/step - loss: 0.1050 - acc: 0.9888 - val_loss: 0.7028 - val_acc: 0.8754\n",
            "Epoch 10/20\n",
            "25000/25000 [==============================] - 3s 140us/step - loss: 1.7304e-04 - acc: 1.0000 - val_loss: 0.7637 - val_acc: 0.8779\n",
            "Epoch 11/20\n",
            "25000/25000 [==============================] - 3s 139us/step - loss: 0.0867 - acc: 0.9905 - val_loss: 0.7045 - val_acc: 0.8755\n",
            "Epoch 12/20\n",
            "25000/25000 [==============================] - 3s 138us/step - loss: 7.1696e-05 - acc: 1.0000 - val_loss: 0.7610 - val_acc: 0.8782\n",
            "Epoch 13/20\n",
            "25000/25000 [==============================] - 3s 138us/step - loss: 2.1547e-05 - acc: 1.0000 - val_loss: 0.8383 - val_acc: 0.8782\n",
            "Epoch 14/20\n",
            "25000/25000 [==============================] - 3s 139us/step - loss: 5.4707e-06 - acc: 1.0000 - val_loss: 0.9175 - val_acc: 0.8784\n",
            "Epoch 15/20\n",
            "25000/25000 [==============================] - 3s 139us/step - loss: 0.1089 - acc: 0.9905 - val_loss: 0.8847 - val_acc: 0.8792\n",
            "Epoch 16/20\n",
            "25000/25000 [==============================] - 3s 138us/step - loss: 3.8704e-06 - acc: 1.0000 - val_loss: 0.8896 - val_acc: 0.8792\n",
            "Epoch 17/20\n",
            "25000/25000 [==============================] - 3s 139us/step - loss: 1.4525e-06 - acc: 1.0000 - val_loss: 0.9029 - val_acc: 0.8790\n",
            "Epoch 18/20\n",
            "25000/25000 [==============================] - 4s 140us/step - loss: 9.2689e-07 - acc: 1.0000 - val_loss: 0.9350 - val_acc: 0.8787\n",
            "Epoch 19/20\n",
            "25000/25000 [==============================] - 3s 139us/step - loss: 4.4145e-07 - acc: 1.0000 - val_loss: 0.9953 - val_acc: 0.8790\n",
            "Epoch 20/20\n",
            "25000/25000 [==============================] - 3s 138us/step - loss: 2.0148e-07 - acc: 1.0000 - val_loss: 1.0420 - val_acc: 0.8789\n"
          ],
          "name": "stdout"
        }
      ]
    },
    {
      "cell_type": "markdown",
      "metadata": {
        "id": "XNvCnCRBq4v2",
        "colab_type": "text"
      },
      "source": [
        "Here's how the bigger network fares compared to the reference one. The dots are the validation loss values of the bigger network, and the \n",
        "crosses are the initial network."
      ]
    },
    {
      "cell_type": "code",
      "metadata": {
        "scrolled": true,
        "id": "uV9by_oSq4v3",
        "colab_type": "code",
        "colab": {
          "base_uri": "https://localhost:8080/",
          "height": 283
        },
        "outputId": "1f6ff931-c324-4c26-9c43-e1c1dee8cfcc"
      },
      "source": [
        "bigger_model_val_loss = bigger_model_hist.history['val_loss']\n",
        "\n",
        "plt.plot(epochs, original_val_loss, 'b+', label='Original model')\n",
        "plt.plot(epochs, bigger_model_val_loss, 'bo', label='Bigger model')\n",
        "plt.xlabel('Epochs')\n",
        "plt.ylabel('Validation loss')\n",
        "plt.legend()\n",
        "\n",
        "plt.show()"
      ],
      "execution_count": 11,
      "outputs": [
        {
          "output_type": "display_data",
          "data": {
            "image/png": "[encoded data removed]",
            "text/plain": [
              "<Figure size 432x288 with 1 Axes>"
            ]
          },
          "metadata": {
            "tags": []
          }
        }
      ]
    },
    {
      "cell_type": "markdown",
      "metadata": {
        "id": "Xkod0EGDq4v6",
        "colab_type": "text"
      },
      "source": [
        "\n",
        "The bigger network starts overfitting almost right away, after just one epoch, and overfits much more severely. Its validation loss is also \n",
        "more noisy.\n",
        "\n",
        "Meanwhile, here are the training losses for our two networks:"
      ]
    },
    {
      "cell_type": "code",
      "metadata": {
        "id": "HVM0plxPq4v8",
        "colab_type": "code",
        "colab": {
          "base_uri": "https://localhost:8080/",
          "height": 283
        },
        "outputId": "d35fdd73-5ef2-4577-a338-a2e615b82ff4"
      },
      "source": [
        "original_train_loss = original_hist.history['loss']\n",
        "bigger_model_train_loss = bigger_model_hist.history['loss']\n",
        "\n",
        "plt.plot(epochs, original_train_loss, 'b+', label='Original model')\n",
        "plt.plot(epochs, bigger_model_train_loss, 'bo', label='Bigger model')\n",
        "plt.xlabel('Epochs')\n",
        "plt.ylabel('Training loss')\n",
        "plt.legend()\n",
        "\n",
        "plt.show()"
      ],
      "execution_count": 12,
      "outputs": [
        {
          "output_type": "display_data",
          "data": {
            "image/png": "[encoded data removed]",
            "text/plain": [
              "<Figure size 432x288 with 1 Axes>"
            ]
          },
          "metadata": {
            "tags": []
          }
        }
      ]
    },
    {
      "cell_type": "markdown",
      "metadata": {
        "id": "Uq5v94Nxq4wB",
        "colab_type": "text"
      },
      "source": [
        "As you can see, the bigger network gets its training loss near zero very quickly. The more capacity the network has, the quicker it will be \n",
        "able to model the training data (resulting in a low training loss), but the more susceptible it is to overfitting (resulting in a large \n",
        "difference between the training and validation loss)."
      ]
    },
    {
      "cell_type": "markdown",
      "metadata": {
        "id": "DAxaWWsmq4wD",
        "colab_type": "text"
      },
      "source": [
        "## Adding weight regularization\n",
        "\n",
        "\n",
        "You may be familiar with _Occam's Razor_ principle: given two explanations for something, the explanation most likely to be correct is the \n",
        "\"simplest\" one, the one that makes the least amount of assumptions. This also applies to the models learned by neural networks: given some \n",
        "training data and a network architecture, there are multiple sets of weights values (multiple _models_) that could explain the data, and \n",
        "simpler models are less likely to overfit than complex ones.\n",
        "\n",
        "A \"simple model\" in this context is a model where the distribution of parameter values has less entropy (or a model with fewer \n",
        "parameters altogether, as we saw in the section above). Thus a common way to mitigate overfitting is to put constraints on the complexity \n",
        "of a network by forcing its weights to only take small values, which makes the distribution of weight values more \"regular\". This is called \n",
        "\"weight regularization\", and it is done by adding to the loss function of the network a _cost_ associated with having large weights. This \n",
        "cost comes in two flavors:\n",
        "\n",
        "* L1 regularization, where the cost added is proportional to the _absolute value of the weights coefficients_ (i.e. to what is called the \n",
        "\"L1 norm\" of the weights).\n",
        "* L2 regularization, where the cost added is proportional to the _square of the value of the weights coefficients_ (i.e. to what is called \n",
        "the \"L2 norm\" of the weights). L2 regularization is also called _weight decay_ in the context of neural networks. Don't let the different \n",
        "name confuse you: weight decay is mathematically the exact same as L2 regularization.\n",
        "\n",
        "In Keras, weight regularization is added by passing _weight regularizer instances_ to layers as keyword arguments. Let's add L2 weight \n",
        "regularization to our movie review classification network:"
      ]
    },
    {
      "cell_type": "code",
      "metadata": {
        "id": "LR1dVNGlq4wF",
        "colab_type": "code",
        "colab": {}
      },
      "source": [
        "from keras import regularizers\n",
        "\n",
        "l2_model = models.Sequential()\n",
        "l2_model.add(layers.Dense(16, kernel_regularizer=regularizers.l2(0.001),\n",
        "                          activation='relu', input_shape=(10000,)))\n",
        "l2_model.add(layers.Dense(16, kernel_regularizer=regularizers.l2(0.001),\n",
        "                          activation='relu'))\n",
        "l2_model.add(layers.Dense(1, activation='sigmoid'))"
      ],
      "execution_count": 0,
      "outputs": []
    },
    {
      "cell_type": "code",
      "metadata": {
        "id": "Yjt313yGq4wJ",
        "colab_type": "code",
        "colab": {}
      },
      "source": [
        "l2_model.compile(optimizer='rmsprop',\n",
        "                 loss='binary_crossentropy',\n",
        "                 metrics=['acc'])"
      ],
      "execution_count": 0,
      "outputs": []
    },
    {
      "cell_type": "markdown",
      "metadata": {
        "id": "3a0Ml-6wq4wN",
        "colab_type": "text"
      },
      "source": [
        "`l2(0.001)` means that every coefficient in the weight matrix of the layer will add `0.001 * weight_coefficient_value` to the total loss of \n",
        "the network. Note that because this penalty is _only added at training time_, the loss for this network will be much higher at training \n",
        "than at test time.\n",
        "\n",
        "Here's the impact of our L2 regularization penalty:"
      ]
    },
    {
      "cell_type": "code",
      "metadata": {
        "id": "G1TO1rsgq4wO",
        "colab_type": "code",
        "colab": {
          "base_uri": "https://localhost:8080/",
          "height": 728
        },
        "outputId": "66d1c845-6e13-4944-a583-0071f15fa699"
      },
      "source": [
        "l2_model_hist = l2_model.fit(x_train, y_train,\n",
        "                             epochs=20,\n",
        "                             batch_size=512,\n",
        "                             validation_data=(x_test, y_test))"
      ],
      "execution_count": 15,
      "outputs": [
        {
          "output_type": "stream",
          "text": [
            "Train on 25000 samples, validate on 25000 samples\n",
            "Epoch 1/20\n",
            "25000/25000 [==============================] - 3s 116us/step - loss: 0.4840 - acc: 0.8255 - val_loss: 0.3916 - val_acc: 0.8657\n",
            "Epoch 2/20\n",
            "25000/25000 [==============================] - 3s 101us/step - loss: 0.3117 - acc: 0.9064 - val_loss: 0.3360 - val_acc: 0.8879\n",
            "Epoch 3/20\n",
            "25000/25000 [==============================] - 3s 101us/step - loss: 0.2700 - acc: 0.9201 - val_loss: 0.3385 - val_acc: 0.8850\n",
            "Epoch 4/20\n",
            "25000/25000 [==============================] - 3s 103us/step - loss: 0.2513 - acc: 0.9266 - val_loss: 0.3483 - val_acc: 0.8797\n",
            "Epoch 5/20\n",
            "25000/25000 [==============================] - 3s 102us/step - loss: 0.2391 - acc: 0.9331 - val_loss: 0.3717 - val_acc: 0.8730\n",
            "Epoch 6/20\n",
            "25000/25000 [==============================] - 3s 103us/step - loss: 0.2288 - acc: 0.9375 - val_loss: 0.3489 - val_acc: 0.8814\n",
            "Epoch 7/20\n",
            "25000/25000 [==============================] - 3s 103us/step - loss: 0.2247 - acc: 0.9395 - val_loss: 0.3583 - val_acc: 0.8800\n",
            "Epoch 8/20\n",
            "25000/25000 [==============================] - 3s 102us/step - loss: 0.2182 - acc: 0.9414 - val_loss: 0.4099 - val_acc: 0.8629\n",
            "Epoch 9/20\n",
            "25000/25000 [==============================] - 3s 102us/step - loss: 0.2167 - acc: 0.9416 - val_loss: 0.3740 - val_acc: 0.8754\n",
            "Epoch 10/20\n",
            "25000/25000 [==============================] - 3s 102us/step - loss: 0.2117 - acc: 0.9442 - val_loss: 0.3777 - val_acc: 0.8759\n",
            "Epoch 11/20\n",
            "25000/25000 [==============================] - 3s 102us/step - loss: 0.2066 - acc: 0.9462 - val_loss: 0.4380 - val_acc: 0.8599\n",
            "Epoch 12/20\n",
            "25000/25000 [==============================] - 3s 102us/step - loss: 0.2058 - acc: 0.9454 - val_loss: 0.3931 - val_acc: 0.8714\n",
            "Epoch 13/20\n",
            "25000/25000 [==============================] - 3s 101us/step - loss: 0.2020 - acc: 0.9470 - val_loss: 0.4124 - val_acc: 0.8692\n",
            "Epoch 14/20\n",
            "25000/25000 [==============================] - 2s 100us/step - loss: 0.1983 - acc: 0.9491 - val_loss: 0.4223 - val_acc: 0.8632\n",
            "Epoch 15/20\n",
            "25000/25000 [==============================] - 3s 100us/step - loss: 0.1964 - acc: 0.9486 - val_loss: 0.4155 - val_acc: 0.8706\n",
            "Epoch 16/20\n",
            "25000/25000 [==============================] - 2s 100us/step - loss: 0.1962 - acc: 0.9497 - val_loss: 0.4135 - val_acc: 0.8701\n",
            "Epoch 17/20\n",
            "25000/25000 [==============================] - 3s 101us/step - loss: 0.1900 - acc: 0.9528 - val_loss: 0.4142 - val_acc: 0.8688\n",
            "Epoch 18/20\n",
            "25000/25000 [==============================] - 3s 101us/step - loss: 0.1861 - acc: 0.9523 - val_loss: 0.4515 - val_acc: 0.8575\n",
            "Epoch 19/20\n",
            "25000/25000 [==============================] - 3s 100us/step - loss: 0.1885 - acc: 0.9516 - val_loss: 0.4269 - val_acc: 0.8658\n",
            "Epoch 20/20\n",
            "25000/25000 [==============================] - 3s 101us/step - loss: 0.1843 - acc: 0.9542 - val_loss: 0.4250 - val_acc: 0.8682\n"
          ],
          "name": "stdout"
        }
      ]
    },
    {
      "cell_type": "code",
      "metadata": {
        "id": "03e7yqPHq4wR",
        "colab_type": "code",
        "colab": {
          "base_uri": "https://localhost:8080/",
          "height": 283
        },
        "outputId": "f9feaf6f-2bda-4f87-9e1a-a3fe43205547"
      },
      "source": [
        "l2_model_val_loss = l2_model_hist.history['val_loss']\n",
        "\n",
        "plt.plot(epochs, original_val_loss, 'b+', label='Original model')\n",
        "plt.plot(epochs, l2_model_val_loss, 'bo', label='L2-regularized model')\n",
        "plt.xlabel('Epochs')\n",
        "plt.ylabel('Validation loss')\n",
        "plt.legend()\n",
        "\n",
        "plt.show()"
      ],
      "execution_count": 16,
      "outputs": [
        {
          "output_type": "display_data",
          "data": {
            "image/png": "[encoded data removed]",
            "text/plain": [
              "<Figure size 432x288 with 1 Axes>"
            ]
          },
          "metadata": {
            "tags": []
          }
        }
      ]
    },
    {
      "cell_type": "markdown",
      "metadata": {
        "id": "5ChQUkuEq4wU",
        "colab_type": "text"
      },
      "source": [
        "\n",
        "\n",
        "As you can see, the model with L2 regularization (dots) has become much more resistant to overfitting than the reference model (crosses), \n",
        "even though both models have the same number of parameters.\n",
        "\n",
        "As alternatives to L2 regularization, you could use one of the following Keras weight regularizers:"
      ]
    },
    {
      "cell_type": "code",
      "metadata": {
        "id": "KZGfnDHQq4wX",
        "colab_type": "code",
        "colab": {
          "base_uri": "https://localhost:8080/",
          "height": 35
        },
        "outputId": "ac48c339-7938-46bd-e0b1-58473469163f"
      },
      "source": [
        "from keras import regularizers\n",
        "\n",
        "# L1 regularization\n",
        "regularizers.l1(0.001)\n",
        "\n",
        "# L1 and L2 regularization at the same time\n",
        "regularizers.l1_l2(l1=0.001, l2=0.001)"
      ],
      "execution_count": 17,
      "outputs": [
        {
          "output_type": "execute_result",
          "data": {
            "text/plain": [
              "<keras.regularizers.L1L2 at 0x7f8aa70f0e48>"
            ]
          },
          "metadata": {
            "tags": []
          },
          "execution_count": 17
        }
      ]
    },
    {
      "cell_type": "markdown",
      "metadata": {
        "id": "C8VDk9Z1q4wj",
        "colab_type": "text"
      },
      "source": [
        "## Adding dropout\n",
        "\n",
        "\n",
        "Dropout is one of the most effective and most commonly used regularization techniques for neural networks, developed by Hinton and his \n",
        "students at the University of Toronto. Dropout, applied to a layer, consists of randomly \"dropping out\" (i.e. setting to zero) a number of \n",
        "output features of the layer during training. Let's say a given layer would normally have returned a vector `[0.2, 0.5, 1.3, 0.8, 1.1]` for a \n",
        "given input sample during training; after applying dropout, this vector will have a few zero entries distributed at random, e.g. `[0, 0.5, \n",
        "1.3, 0, 1.1]`. The \"dropout rate\" is the fraction of the features that are being zeroed-out; it is usually set between 0.2 and 0.5. At test \n",
        "time, no units are dropped out, and instead the layer's output values are scaled down by a factor equal to the dropout rate, so as to \n",
        "balance for the fact that more units are active than at training time.\n",
        "\n",
        "Consider a Numpy matrix containing the output of a layer, `layer_output`, of shape `(batch_size, features)`. At training time, we would be \n",
        "zero-ing out at random a fraction of the values in the matrix:"
      ]
    },
    {
      "cell_type": "code",
      "metadata": {
        "id": "qHQfGV_Dq4wm",
        "colab_type": "code",
        "colab": {
          "base_uri": "https://localhost:8080/",
          "height": 35
        },
        "outputId": "9c03a97e-d578-4405-f64d-6dd359d52fc4"
      },
      "source": [
        "# At training time: we drop out 50% of the units in the output\n",
        "layer_output=np.array([0.2, 0.5, 1.3, 0.8, 1.1])\n",
        "layer_output *= np.random.randint(0, high=2, size=layer_output.shape)\n",
        "print(layer_output)"
      ],
      "execution_count": 18,
      "outputs": [
        {
          "output_type": "stream",
          "text": [
            "[0.2 0.5 0.  0.  0. ]\n"
          ],
          "name": "stdout"
        }
      ]
    },
    {
      "cell_type": "markdown",
      "metadata": {
        "id": "AoW2bOjUq4ws",
        "colab_type": "text"
      },
      "source": [
        "\n",
        "At test time, we would be scaling the output down by the dropout rate. Here we scale by 0.5 (because we were previous dropping half the \n",
        "units):"
      ]
    },
    {
      "cell_type": "code",
      "metadata": {
        "id": "CXSNDtQGq4wt",
        "colab_type": "code",
        "colab": {
          "base_uri": "https://localhost:8080/",
          "height": 35
        },
        "outputId": "63ee93b3-f603-48da-f334-7f67bf8a9193"
      },
      "source": [
        "# At test time:\n",
        "layer_output *= 0.5\n",
        "print(layer_output)"
      ],
      "execution_count": 19,
      "outputs": [
        {
          "output_type": "stream",
          "text": [
            "[0.1  0.25 0.   0.   0.  ]\n"
          ],
          "name": "stdout"
        }
      ]
    },
    {
      "cell_type": "markdown",
      "metadata": {
        "id": "vgsJtcevq4wv",
        "colab_type": "text"
      },
      "source": [
        "\n",
        "Note that this process can be implemented by doing both operations at training time and leaving the output unchanged at test time, which is \n",
        "often the way it is implemented in practice:"
      ]
    },
    {
      "cell_type": "code",
      "metadata": {
        "id": "ptK4MSPPq4ww",
        "colab_type": "code",
        "colab": {
          "base_uri": "https://localhost:8080/",
          "height": 35
        },
        "outputId": "0f1d6377-210a-4aab-fa04-25aa74dea5a1"
      },
      "source": [
        "# At training time:\n",
        "layer_output=np.array([0.2, 0.5, 1.3, 0.8, 1.1])\n",
        "layer_output *= np.random.randint(0, high=2, size=layer_output.shape)\n",
        "print(layer_output)\n",
        "# Note that we are scaling *up* rather scaling *down* in this case\n",
        "layer_output /= 0.5"
      ],
      "execution_count": 20,
      "outputs": [
        {
          "output_type": "stream",
          "text": [
            "[0.  0.  0.  0.  1.1]\n"
          ],
          "name": "stdout"
        }
      ]
    },
    {
      "cell_type": "markdown",
      "metadata": {
        "id": "ZqB2Tds0q4wz",
        "colab_type": "text"
      },
      "source": [
        "\n",
        "This technique may seem strange and arbitrary. Why would this help reduce overfitting? Geoff Hinton has said that he was inspired, among \n",
        "other things, by a fraud prevention mechanism used by banks -- in his own words: _\"I went to my bank. The tellers kept changing and I asked \n",
        "one of them why. He said he didn’t know but they got moved around a lot. I figured it must be because it would require cooperation \n",
        "between employees to successfully defraud the bank. This made me realize that randomly removing a different subset of neurons on each \n",
        "example would prevent conspiracies and thus reduce overfitting\"_.\n",
        "\n",
        "The core idea is that introducing noise in the output values of a layer can break up happenstance patterns that are not significant (what \n",
        "Hinton refers to as \"conspiracies\"), which the network would start memorizing if no noise was present. \n",
        "\n",
        "In Keras you can introduce dropout in a network via the `Dropout` layer, which gets applied to the output of layer right before it, e.g.:"
      ]
    },
    {
      "cell_type": "markdown",
      "metadata": {
        "id": "fRiqlITPwNjM",
        "colab_type": "text"
      },
      "source": [
        "model.add(layers.Dropout(0.5))"
      ]
    },
    {
      "cell_type": "markdown",
      "metadata": {
        "id": "Lhcrsc3rq4w2",
        "colab_type": "text"
      },
      "source": [
        "Let's add two `Dropout` layers in our IMDB network to see how well they do at reducing overfitting:"
      ]
    },
    {
      "cell_type": "code",
      "metadata": {
        "id": "HoFLEJJ0q4w2",
        "colab_type": "code",
        "colab": {
          "base_uri": "https://localhost:8080/",
          "height": 124
        },
        "outputId": "4c30fc78-f193-4261-d8dd-26dcd3d9e935"
      },
      "source": [
        "from keras import models\n",
        "from keras import layers\n",
        "\n",
        "dpt_model = models.Sequential()\n",
        "dpt_model.add(layers.Dense(16, activation='relu', input_shape=(10000,)))\n",
        "dpt_model.add(layers.Dropout(0.5))\n",
        "dpt_model.add(layers.Dense(16, activation='relu'))\n",
        "dpt_model.add(layers.Dropout(0.5))\n",
        "dpt_model.add(layers.Dense(1, activation='sigmoid'))\n",
        "\n",
        "dpt_model.compile(optimizer='rmsprop',\n",
        "                  loss='binary_crossentropy',\n",
        "                  metrics=['acc'])"
      ],
      "execution_count": 22,
      "outputs": [
        {
          "output_type": "stream",
          "text": [
            "WARNING:tensorflow:From /usr/local/lib/python3.6/dist-packages/keras/backend/tensorflow_backend.py:148: The name tf.placeholder_with_default is deprecated. Please use tf.compat.v1.placeholder_with_default instead.\n",
            "\n",
            "WARNING:tensorflow:From /usr/local/lib/python3.6/dist-packages/keras/backend/tensorflow_backend.py:3733: calling dropout (from tensorflow.python.ops.nn_ops) with keep_prob is deprecated and will be removed in a future version.\n",
            "Instructions for updating:\n",
            "Please use `rate` instead of `keep_prob`. Rate should be set to `rate = 1 - keep_prob`.\n"
          ],
          "name": "stdout"
        }
      ]
    },
    {
      "cell_type": "code",
      "metadata": {
        "id": "BEdV2c9lq4w4",
        "colab_type": "code",
        "colab": {
          "base_uri": "https://localhost:8080/",
          "height": 728
        },
        "outputId": "226be068-26e5-4904-ac83-9e5f7fd0ffda"
      },
      "source": [
        "dpt_model_hist = dpt_model.fit(x_train, y_train,\n",
        "                               epochs=20,\n",
        "                               batch_size=512,\n",
        "                               validation_data=(x_test, y_test))"
      ],
      "execution_count": 23,
      "outputs": [
        {
          "output_type": "stream",
          "text": [
            "Train on 25000 samples, validate on 25000 samples\n",
            "Epoch 1/20\n",
            "25000/25000 [==============================] - 3s 124us/step - loss: 0.6062 - acc: 0.6696 - val_loss: 0.4700 - val_acc: 0.8620\n",
            "Epoch 2/20\n",
            "25000/25000 [==============================] - 3s 107us/step - loss: 0.4572 - acc: 0.8110 - val_loss: 0.3548 - val_acc: 0.8809\n",
            "Epoch 3/20\n",
            "25000/25000 [==============================] - 3s 108us/step - loss: 0.3665 - acc: 0.8644 - val_loss: 0.3034 - val_acc: 0.8884\n",
            "Epoch 4/20\n",
            "25000/25000 [==============================] - 3s 106us/step - loss: 0.3072 - acc: 0.8974 - val_loss: 0.2863 - val_acc: 0.8900\n",
            "Epoch 5/20\n",
            "25000/25000 [==============================] - 3s 106us/step - loss: 0.2621 - acc: 0.9126 - val_loss: 0.2896 - val_acc: 0.8889\n",
            "Epoch 6/20\n",
            "25000/25000 [==============================] - 3s 108us/step - loss: 0.2326 - acc: 0.9242 - val_loss: 0.2882 - val_acc: 0.8887\n",
            "Epoch 7/20\n",
            "25000/25000 [==============================] - 3s 108us/step - loss: 0.2078 - acc: 0.9341 - val_loss: 0.3144 - val_acc: 0.8855\n",
            "Epoch 8/20\n",
            "25000/25000 [==============================] - 3s 107us/step - loss: 0.1824 - acc: 0.9403 - val_loss: 0.3227 - val_acc: 0.8847\n",
            "Epoch 9/20\n",
            "25000/25000 [==============================] - 3s 108us/step - loss: 0.1689 - acc: 0.9466 - val_loss: 0.3444 - val_acc: 0.8804\n",
            "Epoch 10/20\n",
            "25000/25000 [==============================] - 3s 110us/step - loss: 0.1513 - acc: 0.9517 - val_loss: 0.3952 - val_acc: 0.8788\n",
            "Epoch 11/20\n",
            "25000/25000 [==============================] - 3s 106us/step - loss: 0.1401 - acc: 0.9563 - val_loss: 0.3913 - val_acc: 0.8782\n",
            "Epoch 12/20\n",
            "25000/25000 [==============================] - 3s 106us/step - loss: 0.1279 - acc: 0.9594 - val_loss: 0.4186 - val_acc: 0.8776\n",
            "Epoch 13/20\n",
            "25000/25000 [==============================] - 3s 106us/step - loss: 0.1245 - acc: 0.9606 - val_loss: 0.4356 - val_acc: 0.8756\n",
            "Epoch 14/20\n",
            "25000/25000 [==============================] - 3s 108us/step - loss: 0.1171 - acc: 0.9639 - val_loss: 0.4771 - val_acc: 0.8771\n",
            "Epoch 15/20\n",
            "25000/25000 [==============================] - 3s 107us/step - loss: 0.1142 - acc: 0.9657 - val_loss: 0.4970 - val_acc: 0.8757\n",
            "Epoch 16/20\n",
            "25000/25000 [==============================] - 3s 107us/step - loss: 0.1122 - acc: 0.9668 - val_loss: 0.5092 - val_acc: 0.8743\n",
            "Epoch 17/20\n",
            "25000/25000 [==============================] - 3s 106us/step - loss: 0.1041 - acc: 0.9707 - val_loss: 0.5423 - val_acc: 0.8738\n",
            "Epoch 18/20\n",
            "25000/25000 [==============================] - 3s 108us/step - loss: 0.1001 - acc: 0.9696 - val_loss: 0.5657 - val_acc: 0.8733\n",
            "Epoch 19/20\n",
            "25000/25000 [==============================] - 3s 107us/step - loss: 0.0950 - acc: 0.9726 - val_loss: 0.5585 - val_acc: 0.8690\n",
            "Epoch 20/20\n",
            "25000/25000 [==============================] - 3s 106us/step - loss: 0.0991 - acc: 0.9704 - val_loss: 0.6033 - val_acc: 0.8726\n"
          ],
          "name": "stdout"
        }
      ]
    },
    {
      "cell_type": "markdown",
      "metadata": {
        "id": "1cT5hr_Sq4w8",
        "colab_type": "text"
      },
      "source": [
        "Let's plot the results:"
      ]
    },
    {
      "cell_type": "code",
      "metadata": {
        "id": "xELosm0bq4w8",
        "colab_type": "code",
        "colab": {
          "base_uri": "https://localhost:8080/",
          "height": 283
        },
        "outputId": "cadffd7a-d041-40a9-996a-3f715c524d85"
      },
      "source": [
        "import matplotlib.pyplot as plt\n",
        "\n",
        "dpt_model_val_loss = dpt_model_hist.history['val_loss']\n",
        "\n",
        "plt.plot(epochs,original_val_loss, 'b+', label='Original model')\n",
        "plt.plot(epochs, dpt_model_val_loss, 'bo', label='Dropout-regularized model')\n",
        "plt.xlabel('Epochs')\n",
        "plt.ylabel('Validation loss')\n",
        "plt.legend()\n",
        "\n",
        "plt.show()"
      ],
      "execution_count": 24,
      "outputs": [
        {
          "output_type": "display_data",
          "data": {
            "image/png": "[encoded data removed]",
            "text/plain": [
              "<Figure size 432x288 with 1 Axes>"
            ]
          },
          "metadata": {
            "tags": []
          }
        }
      ]
    },
    {
      "cell_type": "markdown",
      "metadata": {
        "id": "jNVNFXeyq4xB",
        "colab_type": "text"
      },
      "source": [
        "\n",
        "Again, a clear improvement over the reference network.\n",
        "\n",
        "To recap: here the most common ways to prevent overfitting in neural networks:\n",
        "\n",
        "* Getting more training data.\n",
        "* Reducing the capacity of the network.\n",
        "* Adding weight regularization.\n",
        "* Adding dropout."
      ]
    }
  ]
}